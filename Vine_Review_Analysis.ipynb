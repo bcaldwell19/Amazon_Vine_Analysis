{
 "nbformat": 4,
 "nbformat_minor": 0,
 "metadata": {
  "colab": {
   "provenance": []
  },
  "kernelspec": {
   "name": "python3",
   "display_name": "Python 3"
  },
  "language_info": {
   "name": "python"
  }
 },
 "cells": [
  {
   "cell_type": "code",
   "execution_count": 1,
   "metadata": {
    "colab": {
     "base_uri": "https://localhost:8080/"
    },
    "id": "V58rxea0HqSa",
    "outputId": "306bac60-0ef5-45d2-da74-90c693281332"
   },
   "outputs": [
    {
     "output_type": "stream",
     "name": "stdout",
     "text": [
      "\r0% [Working]\r            \rGet:1 https://cloud.r-project.org/bin/linux/ubuntu focal-cran40/ InRelease [3,622 B]\n",
      "\r0% [Waiting for headers] [Connecting to security.ubuntu.com (185.125.190.36)] [\r0% [Waiting for headers] [Connecting to security.ubuntu.com (185.125.190.36)] [\r                                                                               \rGet:2 https://developer.download.nvidia.com/compute/cuda/repos/ubuntu2004/x86_64  InRelease [1,581 B]\n",
      "\r0% [Waiting for headers] [Connecting to security.ubuntu.com (185.125.190.36)] [\r                                                                               \rHit:3 http://archive.ubuntu.com/ubuntu focal InRelease\n",
      "Get:4 http://archive.ubuntu.com/ubuntu focal-updates InRelease [114 kB]\n",
      "Get:5 https://cloud.r-project.org/bin/linux/ubuntu focal-cran40/ Packages [73.4 kB]\n",
      "Get:6 http://ppa.launchpad.net/c2d4u.team/c2d4u4.0+/ubuntu focal InRelease [18.1 kB]\n",
      "Get:7 http://security.ubuntu.com/ubuntu focal-security InRelease [114 kB]\n",
      "Get:8 http://archive.ubuntu.com/ubuntu focal-backports InRelease [108 kB]\n",
      "Get:9 https://developer.download.nvidia.com/compute/cuda/repos/ubuntu2004/x86_64  Packages [920 kB]\n",
      "Hit:10 http://ppa.launchpad.net/cran/libgit2/ubuntu focal InRelease\n",
      "Hit:11 http://ppa.launchpad.net/deadsnakes/ppa/ubuntu focal InRelease\n",
      "Get:12 http://archive.ubuntu.com/ubuntu focal-updates/main amd64 Packages [3,021 kB]\n",
      "Hit:13 http://ppa.launchpad.net/graphics-drivers/ppa/ubuntu focal InRelease\n",
      "Hit:14 http://ppa.launchpad.net/ubuntugis/ppa/ubuntu focal InRelease\n",
      "Get:15 http://archive.ubuntu.com/ubuntu focal-updates/universe amd64 Packages [1,313 kB]\n",
      "Get:16 http://ppa.launchpad.net/c2d4u.team/c2d4u4.0+/ubuntu focal/main Sources [2,398 kB]\n",
      "Get:17 http://security.ubuntu.com/ubuntu focal-security/universe amd64 Packages [1,017 kB]\n",
      "Get:18 http://ppa.launchpad.net/c2d4u.team/c2d4u4.0+/ubuntu focal/main amd64 Packages [1,136 kB]\n",
      "Get:19 http://security.ubuntu.com/ubuntu focal-security/main amd64 Packages [2,544 kB]\n",
      "Fetched 12.8 MB in 5s (2,413 kB/s)\n",
      "Reading package lists... Done\n"
     ]
    }
   ],
   "source": [
    "import os\n",
    "\n",
    "# Find the latest version of spark 3.2 from http://www.apache.org/dist/spark/ and enter as the spark version\n",
    "# For example:\n",
    "# spark_version = 'spark-3.2.3'\n",
    "spark_version = \"spark-3.2.3\"\n",
    "os.environ[\"SPARK_VERSION\"] = spark_version\n",
    "\n",
    "# Install Spark and Java\n",
    "!apt-get update\n",
    "!apt-get install openjdk-11-jdk-headless -qq > /dev/null\n",
    "!wget -q http://www.apache.org/dist/spark/$SPARK_VERSION/$SPARK_VERSION-bin-hadoop2.7.tgz\n",
    "!tar xf $SPARK_VERSION-bin-hadoop2.7.tgz\n",
    "!pip install -q findspark\n",
    "\n",
    "# Set Environment Variables\n",
    "import os\n",
    "\n",
    "os.environ[\"JAVA_HOME\"] = \"/usr/lib/jvm/java-11-openjdk-amd64\"\n",
    "os.environ[\"SPARK_HOME\"] = f\"/content/{spark_version}-bin-hadoop2.7\"\n",
    "\n",
    "# Start a SparkSession\n",
    "import findspark\n",
    "\n",
    "findspark.init()"
   ]
  },
  {
   "cell_type": "code",
   "execution_count": 2,
   "metadata": {
    "id": "MMqDAjVS0KN9"
   },
   "outputs": [],
   "source": [
    "from pyspark.sql import SparkSession\n",
    "\n",
    "spark = (\n",
    "    SparkSession.builder.appName(\"M17-Amazon-Challenge\")\n",
    "    .config(\"spark.driver.extraClassPath\", \"/content/postgresql-42.2.16.jar\")\n",
    "    .getOrCreate()\n",
    ")"
   ]
  },
  {
   "cell_type": "code",
   "execution_count": 3,
   "metadata": {
    "id": "CtCmBhQJY-9Z",
    "colab": {
     "base_uri": "https://localhost:8080/"
    },
    "outputId": "d8fbb437-688f-475f-d509-e643c753a803"
   },
   "outputs": [
    {
     "output_type": "stream",
     "name": "stdout",
     "text": [
      "+-----------+-----------+--------------+----------+--------------+--------------------+----------------+-----------+-------------+-----------+----+-----------------+--------------------+--------------------+-----------+\n",
      "|marketplace|customer_id|     review_id|product_id|product_parent|       product_title|product_category|star_rating|helpful_votes|total_votes|vine|verified_purchase|     review_headline|         review_body|review_date|\n",
      "+-----------+-----------+--------------+----------+--------------+--------------------+----------------+-----------+-------------+-----------+----+-----------------+--------------------+--------------------+-----------+\n",
      "|         US|   12039526| RTIS3L2M1F5SM|B001CXYMFS|     737716809|Thrustmaster T-Fl...|     Video Games|          5|            0|          0|   N|                Y|an amazing joysti...|Used this for Eli...| 2015-08-31|\n",
      "|         US|    9636577| R1ZV7R40OLHKD|B00M920ND6|     569686175|Tonsee 6 buttons ...|     Video Games|          5|            0|          0|   N|                Y|Definitely a sile...|Loved it,  I didn...| 2015-08-31|\n",
      "|         US|    2331478|R3BH071QLH8QMC|B0029CSOD2|      98937668|Hidden Mysteries:...|     Video Games|          1|            0|          1|   N|                Y|            One Star|poor quality work...| 2015-08-31|\n",
      "|         US|   52495923|R127K9NTSXA2YH|B00GOOSV98|      23143350|GelTabz Performan...|     Video Games|          3|            0|          0|   N|                Y|good, but could b...|nice, but tend to...| 2015-08-31|\n",
      "|         US|   14533949|R32ZWUXDJPW27Q|B00Y074JOM|     821342511|Zero Suit Samus a...|     Video Games|          4|            0|          0|   N|                Y|   Great but flawed.|Great amiibo, gre...| 2015-08-31|\n",
      "+-----------+-----------+--------------+----------+--------------+--------------------+----------------+-----------+-------------+-----------+----+-----------------+--------------------+--------------------+-----------+\n",
      "only showing top 5 rows\n",
      "\n"
     ]
    }
   ],
   "source": [
    "from pyspark import SparkFiles\n",
    "\n",
    "url = \"https://s3.amazonaws.com/amazon-reviews-pds/tsv/amazon_reviews_us_Video_Games_v1_00.tsv.gz\"\n",
    "spark.sparkContext.addFile(url)\n",
    "df = spark.read.option(\"encoding\", \"UTF-8\").csv(\n",
    "    SparkFiles.get(\"\"), sep=\"\\t\", header=True, inferSchema=True\n",
    ")\n",
    "df.show(5)"
   ]
  },
  {
   "cell_type": "code",
   "execution_count": 4,
   "metadata": {
    "id": "lzMmkdKmY--D",
    "colab": {
     "base_uri": "https://localhost:8080/"
    },
    "outputId": "6fb2456c-ccf9-4b03-9df1-b3130df40139"
   },
   "outputs": [
    {
     "output_type": "stream",
     "name": "stdout",
     "text": [
      "+--------------+-----------+-------------+-----------+----+-----------------+\n",
      "|     review_id|star_rating|helpful_votes|total_votes|vine|verified_purchase|\n",
      "+--------------+-----------+-------------+-----------+----+-----------------+\n",
      "| RTIS3L2M1F5SM|          5|            0|          0|   N|                Y|\n",
      "| R1ZV7R40OLHKD|          5|            0|          0|   N|                Y|\n",
      "|R3BH071QLH8QMC|          1|            0|          1|   N|                Y|\n",
      "|R127K9NTSXA2YH|          3|            0|          0|   N|                Y|\n",
      "|R32ZWUXDJPW27Q|          4|            0|          0|   N|                Y|\n",
      "+--------------+-----------+-------------+-----------+----+-----------------+\n",
      "only showing top 5 rows\n",
      "\n"
     ]
    }
   ],
   "source": [
    "# Create the vine_table. DataFrame\n",
    "vine_df = df.select(\n",
    "    [\n",
    "        \"review_id\",\n",
    "        \"star_rating\",\n",
    "        \"helpful_votes\",\n",
    "        \"total_votes\",\n",
    "        \"vine\",\n",
    "        \"verified_purchase\",\n",
    "    ]\n",
    ")\n",
    "\n",
    "vine_df.show(5)"
   ]
  },
  {
   "cell_type": "code",
   "source": [
    "# Filter the data and create a new DataFrame or table to retrieve all the rows where the total_votes count is equal to or greater than 20 to pick reviews that are more likely to be helpful and to avoid having division by zero errors later on.\n",
    "\n",
    "from pyspark.sql.functions import col\n",
    "\n",
    "vine_votes_df = vine_df.filter(col(\"total_votes\") >= 20)\n",
    "vine_votes_df.show()"
   ],
   "metadata": {
    "colab": {
     "base_uri": "https://localhost:8080/"
    },
    "id": "KkGSJ9CRLmJc",
    "outputId": "90568481-64e0-472f-d7be-5e393a22175a"
   },
   "execution_count": 5,
   "outputs": [
    {
     "output_type": "stream",
     "name": "stdout",
     "text": [
      "+--------------+-----------+-------------+-----------+----+-----------------+\n",
      "|     review_id|star_rating|helpful_votes|total_votes|vine|verified_purchase|\n",
      "+--------------+-----------+-------------+-----------+----+-----------------+\n",
      "| R4PKAZRQJJX14|          1|           21|         34|   N|                N|\n",
      "|R2CI0Y288CC7E2|          1|           21|         35|   N|                Y|\n",
      "|R127WEQY2FM1T3|          1|          147|        175|   N|                Y|\n",
      "|R3EZ0EPYLDA34S|          1|           14|         31|   N|                Y|\n",
      "|R2FJ94555FZH32|          2|           55|         60|   N|                N|\n",
      "|R1U3AR67RE273L|          1|           51|         65|   N|                Y|\n",
      "|R3PZOXA5X1U8KW|          4|           31|         36|   N|                N|\n",
      "| R6KTC1OPIOIIG|          2|           19|         34|   N|                Y|\n",
      "|R36O341WWXXKNP|          5|           28|         31|   N|                N|\n",
      "|R3GSK9MM8DNOYI|          1|            4|         32|   N|                N|\n",
      "|R10LZVBLQHBVJ0|          2|          151|        198|   N|                N|\n",
      "|R1VR5GLGY1GE7N|          1|           49|         51|   N|                Y|\n",
      "|R3GUUC6NT4QMCL|          1|            5|         36|   N|                N|\n",
      "|R1ZSD020RT18I5|          1|            7|        139|   N|                N|\n",
      "|R113X48B575ASY|          1|           15|         45|   N|                N|\n",
      "| RJLYLGRYH7SFQ|          1|           34|        116|   N|                N|\n",
      "|R2OWDAR0EDEPTF|          1|           23|         28|   N|                N|\n",
      "|R3CICXKAHN6NUD|          1|            0|         23|   N|                Y|\n",
      "|R29BOS5HMAY1LO|          5|           88|        110|   N|                N|\n",
      "| R8WD0136CETA7|          2|           99|        119|   N|                N|\n",
      "+--------------+-----------+-------------+-----------+----+-----------------+\n",
      "only showing top 20 rows\n",
      "\n"
     ]
    }
   ]
  },
  {
   "cell_type": "code",
   "source": [
    "# Filter the new DataFrame or table created in Step 1 and create a new DataFrame or table to retrieve all the rows where the number of helpful_votes divided by total_votes is equal to or greater than 50%.\n",
    "\n",
    "from pyspark.sql.functions import col\n",
    "\n",
    "vine_votes_percentage_df = vine_votes_df.filter(\n",
    "    (col(\"helpful_votes\") / col(\"total_votes\")) * 100 >= 50\n",
    ")\n",
    "vine_votes_percentage_df.show()"
   ],
   "metadata": {
    "colab": {
     "base_uri": "https://localhost:8080/"
    },
    "id": "R8gE43o2NmmN",
    "outputId": "c3d13b38-ba8c-4624-e499-df16a6ec0abd"
   },
   "execution_count": 6,
   "outputs": [
    {
     "output_type": "stream",
     "name": "stdout",
     "text": [
      "+--------------+-----------+-------------+-----------+----+-----------------+\n",
      "|     review_id|star_rating|helpful_votes|total_votes|vine|verified_purchase|\n",
      "+--------------+-----------+-------------+-----------+----+-----------------+\n",
      "| R4PKAZRQJJX14|          1|           21|         34|   N|                N|\n",
      "|R2CI0Y288CC7E2|          1|           21|         35|   N|                Y|\n",
      "|R127WEQY2FM1T3|          1|          147|        175|   N|                Y|\n",
      "|R2FJ94555FZH32|          2|           55|         60|   N|                N|\n",
      "|R1U3AR67RE273L|          1|           51|         65|   N|                Y|\n",
      "|R3PZOXA5X1U8KW|          4|           31|         36|   N|                N|\n",
      "| R6KTC1OPIOIIG|          2|           19|         34|   N|                Y|\n",
      "|R36O341WWXXKNP|          5|           28|         31|   N|                N|\n",
      "|R10LZVBLQHBVJ0|          2|          151|        198|   N|                N|\n",
      "|R1VR5GLGY1GE7N|          1|           49|         51|   N|                Y|\n",
      "|R2OWDAR0EDEPTF|          1|           23|         28|   N|                N|\n",
      "|R29BOS5HMAY1LO|          5|           88|        110|   N|                N|\n",
      "| R8WD0136CETA7|          2|           99|        119|   N|                N|\n",
      "|R16621F16PQN5A|          3|           24|         31|   N|                Y|\n",
      "|R1LXBPG1M9DDOC|          1|          102|        106|   N|                N|\n",
      "| RNEMGSUKJ4535|          2|           21|         25|   N|                Y|\n",
      "|R3R2UKBFKP1IQ4|          1|           19|         23|   N|                Y|\n",
      "|R2T90XM5G2DBZA|          3|           15|         22|   N|                Y|\n",
      "| R5ZMK0Y0KRBRZ|          1|           79|         91|   N|                N|\n",
      "|R12E2W0XOV3I2S|          1|           24|         30|   N|                Y|\n",
      "+--------------+-----------+-------------+-----------+----+-----------------+\n",
      "only showing top 20 rows\n",
      "\n"
     ]
    }
   ]
  },
  {
   "cell_type": "code",
   "source": [
    "# Filter the DataFrame or table created in Step 2, and create a new DataFrame or table that retrieves all the rows where a review was written as part of the Vine program (paid), vine == 'Y'\n",
    "\n",
    "from pyspark.sql.functions import col\n",
    "\n",
    "vine_votes_Y_df = vine_votes_percentage_df.filter(col(\"vine\") == \"Y\")\n",
    "vine_votes_Y_df.show()"
   ],
   "metadata": {
    "colab": {
     "base_uri": "https://localhost:8080/"
    },
    "id": "zW06cpbyOKz9",
    "outputId": "5ea6a79d-e300-4abf-866b-361a1a1482d6"
   },
   "execution_count": 7,
   "outputs": [
    {
     "output_type": "stream",
     "name": "stdout",
     "text": [
      "+--------------+-----------+-------------+-----------+----+-----------------+\n",
      "|     review_id|star_rating|helpful_votes|total_votes|vine|verified_purchase|\n",
      "+--------------+-----------+-------------+-----------+----+-----------------+\n",
      "|R3KKUSGFZWSUIY|          5|           56|         63|   Y|                N|\n",
      "|R10FO5UKKVZBK2|          3|           23|         23|   Y|                N|\n",
      "| RM4KSGEOR7MU1|          5|           19|         24|   Y|                N|\n",
      "| RG7VRMYLEXD23|          4|           22|         26|   Y|                N|\n",
      "|R11O4YSCPSNL6L|          3|           20|         26|   Y|                N|\n",
      "|R286MFBAJ8NPD6|          5|           46|         51|   Y|                N|\n",
      "|R1JRR530H4COA2|          5|           22|         28|   Y|                N|\n",
      "| RQ5WD90PUNBU9|          5|           21|         24|   Y|                N|\n",
      "|R12648VHCQWUV9|          4|           21|         28|   Y|                N|\n",
      "|R3KAW29CJ8L6DQ|          5|           17|         20|   Y|                N|\n",
      "|R1OWK33OPI45KT|          5|           55|         58|   Y|                N|\n",
      "|R2UP7VTED8O425|          5|           35|         41|   Y|                N|\n",
      "|R3N4QAXTQCA1ED|          5|           18|         20|   Y|                N|\n",
      "|R3EPHK0JGQGE91|          5|           21|         28|   Y|                N|\n",
      "| RCP3KRO47S0GG|          4|           51|         58|   Y|                N|\n",
      "|R3JT907UUA1WUI|          4|           85|        103|   Y|                N|\n",
      "| RY0555ILXIYXW|          5|           38|         50|   Y|                N|\n",
      "|R24PS9N276OXF4|          5|          241|        262|   Y|                N|\n",
      "|R3R0F8ETAGTIOT|          5|           14|         20|   Y|                N|\n",
      "| ROXZOMHBY8Y9S|          4|           21|         23|   Y|                N|\n",
      "+--------------+-----------+-------------+-----------+----+-----------------+\n",
      "only showing top 20 rows\n",
      "\n"
     ]
    }
   ]
  },
  {
   "cell_type": "code",
   "source": [
    "# Repeat Step 3, but this time retrieve all the rows where the review was not part of the Vine program (unpaid), vine == 'N'\n",
    "\n",
    "from pyspark.sql.functions import col\n",
    "\n",
    "vine_votes_N_df = vine_votes_percentage_df.filter(col(\"vine\") == \"N\")\n",
    "vine_votes_N_df.show()"
   ],
   "metadata": {
    "colab": {
     "base_uri": "https://localhost:8080/"
    },
    "id": "w5NNHqJJOrKq",
    "outputId": "1de35150-40f7-42a4-f575-cfce649821b2"
   },
   "execution_count": 8,
   "outputs": [
    {
     "output_type": "stream",
     "name": "stdout",
     "text": [
      "+--------------+-----------+-------------+-----------+----+-----------------+\n",
      "|     review_id|star_rating|helpful_votes|total_votes|vine|verified_purchase|\n",
      "+--------------+-----------+-------------+-----------+----+-----------------+\n",
      "| R4PKAZRQJJX14|          1|           21|         34|   N|                N|\n",
      "|R2CI0Y288CC7E2|          1|           21|         35|   N|                Y|\n",
      "|R127WEQY2FM1T3|          1|          147|        175|   N|                Y|\n",
      "|R2FJ94555FZH32|          2|           55|         60|   N|                N|\n",
      "|R1U3AR67RE273L|          1|           51|         65|   N|                Y|\n",
      "|R3PZOXA5X1U8KW|          4|           31|         36|   N|                N|\n",
      "| R6KTC1OPIOIIG|          2|           19|         34|   N|                Y|\n",
      "|R36O341WWXXKNP|          5|           28|         31|   N|                N|\n",
      "|R10LZVBLQHBVJ0|          2|          151|        198|   N|                N|\n",
      "|R1VR5GLGY1GE7N|          1|           49|         51|   N|                Y|\n",
      "|R2OWDAR0EDEPTF|          1|           23|         28|   N|                N|\n",
      "|R29BOS5HMAY1LO|          5|           88|        110|   N|                N|\n",
      "| R8WD0136CETA7|          2|           99|        119|   N|                N|\n",
      "|R16621F16PQN5A|          3|           24|         31|   N|                Y|\n",
      "|R1LXBPG1M9DDOC|          1|          102|        106|   N|                N|\n",
      "| RNEMGSUKJ4535|          2|           21|         25|   N|                Y|\n",
      "|R3R2UKBFKP1IQ4|          1|           19|         23|   N|                Y|\n",
      "|R2T90XM5G2DBZA|          3|           15|         22|   N|                Y|\n",
      "| R5ZMK0Y0KRBRZ|          1|           79|         91|   N|                N|\n",
      "|R12E2W0XOV3I2S|          1|           24|         30|   N|                Y|\n",
      "+--------------+-----------+-------------+-----------+----+-----------------+\n",
      "only showing top 20 rows\n",
      "\n"
     ]
    }
   ]
  },
  {
   "cell_type": "code",
   "source": [
    "# Determine the total number of reviews\n",
    "\n",
    "total_number_of_reviews_ALL = vine_votes_percentage_df.count()\n",
    "\n",
    "total_number_of_reviews_ALL"
   ],
   "metadata": {
    "colab": {
     "base_uri": "https://localhost:8080/"
    },
    "id": "5r9YqAyYUFlG",
    "outputId": "3842a178-1d55-471a-dd83-911f58685ba8"
   },
   "execution_count": 9,
   "outputs": [
    {
     "output_type": "execute_result",
     "data": {
      "text/plain": [
       "40565"
      ]
     },
     "metadata": {},
     "execution_count": 9
    }
   ]
  },
  {
   "cell_type": "code",
   "source": [
    "# Determine the total number of vine reviews\n",
    "\n",
    "from pyspark.sql.functions import col\n",
    "\n",
    "total_number_of_reviews_Y = vine_votes_percentage_df.filter(col(\"vine\") == \"Y\").count()\n",
    "\n",
    "total_number_of_reviews_Y"
   ],
   "metadata": {
    "colab": {
     "base_uri": "https://localhost:8080/"
    },
    "outputId": "a3d92ee0-90b1-4ebf-ac89-f2ce46dd3e17",
    "id": "CHQDxqq4Ie9W"
   },
   "execution_count": 10,
   "outputs": [
    {
     "output_type": "execute_result",
     "data": {
      "text/plain": [
       "94"
      ]
     },
     "metadata": {},
     "execution_count": 10
    }
   ]
  },
  {
   "cell_type": "code",
   "source": [
    "# Determine the total number of non-vine reviews\n",
    "\n",
    "from pyspark.sql.functions import col\n",
    "\n",
    "total_number_of_reviews_N = vine_votes_percentage_df.filter(col(\"vine\") == \"N\").count()\n",
    "\n",
    "total_number_of_reviews_N"
   ],
   "metadata": {
    "colab": {
     "base_uri": "https://localhost:8080/"
    },
    "outputId": "b6ec52af-7ad2-4e67-b70d-4fbe8c281688",
    "id": "kMLKxEtkIfkl"
   },
   "execution_count": 11,
   "outputs": [
    {
     "output_type": "execute_result",
     "data": {
      "text/plain": [
       "40471"
      ]
     },
     "metadata": {},
     "execution_count": 11
    }
   ]
  },
  {
   "cell_type": "code",
   "source": [
    "# The number of 5-star reviews\n",
    "\n",
    "from pyspark.sql.functions import col\n",
    "\n",
    "vine_5votes__df = vine_votes_percentage_df.filter(col(\"star_rating\") == 5).count()\n",
    "vine_5votes__df"
   ],
   "metadata": {
    "colab": {
     "base_uri": "https://localhost:8080/"
    },
    "outputId": "0ddfba75-aa2b-40fa-ef30-647159b93e68",
    "id": "h79WcXR7UkAT"
   },
   "execution_count": 12,
   "outputs": [
    {
     "output_type": "execute_result",
     "data": {
      "text/plain": [
       "15711"
      ]
     },
     "metadata": {},
     "execution_count": 12
    }
   ]
  },
  {
   "cell_type": "code",
   "source": [
    "# The number of 5-star reviews Yes only\n",
    "\n",
    "from pyspark.sql.functions import col\n",
    "\n",
    "vine_5Yvotes__df = vine_votes_Y_df.filter(col(\"star_rating\") == 5).count()\n",
    "vine_5Yvotes__df"
   ],
   "metadata": {
    "colab": {
     "base_uri": "https://localhost:8080/"
    },
    "id": "O8O9GZuTcZZk",
    "outputId": "30ce1596-9851-4b15-eabc-222d2acd6869"
   },
   "execution_count": 13,
   "outputs": [
    {
     "output_type": "execute_result",
     "data": {
      "text/plain": [
       "48"
      ]
     },
     "metadata": {},
     "execution_count": 13
    }
   ]
  },
  {
   "cell_type": "code",
   "source": [
    "# The number of 5-star reviews No Only\n",
    "\n",
    "from pyspark.sql.functions import col\n",
    "\n",
    "vine_5Nvotes__df = vine_votes_N_df.filter(col(\"star_rating\") == 5).count()\n",
    "vine_5Nvotes__df"
   ],
   "metadata": {
    "colab": {
     "base_uri": "https://localhost:8080/"
    },
    "id": "3FSarSuOcZe7",
    "outputId": "c6895038-8dae-48f8-a657-df8e1a573eb8"
   },
   "execution_count": 14,
   "outputs": [
    {
     "output_type": "execute_result",
     "data": {
      "text/plain": [
       "15663"
      ]
     },
     "metadata": {},
     "execution_count": 14
    }
   ]
  },
  {
   "cell_type": "code",
   "source": [
    "# percentage of 5-star reviews Yes Only\n",
    "vine_perc_5Y = (vine_5Yvotes__df / total_number_of_reviews_Y) * 100\n",
    "vine_perc_5Y"
   ],
   "metadata": {
    "colab": {
     "base_uri": "https://localhost:8080/"
    },
    "id": "PC7hclt8VzYP",
    "outputId": "0a607a46-d8d9-42b8-ce1b-802b5bf555de"
   },
   "execution_count": 15,
   "outputs": [
    {
     "output_type": "execute_result",
     "data": {
      "text/plain": [
       "51.06382978723404"
      ]
     },
     "metadata": {},
     "execution_count": 15
    }
   ]
  },
  {
   "cell_type": "code",
   "source": [
    "# percentage of 5-star reviews No Only\n",
    "vine_perc_5N = (vine_5Nvotes__df / total_number_of_reviews_N) * 100\n",
    "vine_perc_5N"
   ],
   "metadata": {
    "colab": {
     "base_uri": "https://localhost:8080/"
    },
    "id": "fXfgDGlMVzgs",
    "outputId": "be76c15b-5f3d-4070-8486-e61b47430b5e"
   },
   "execution_count": 16,
   "outputs": [
    {
     "output_type": "execute_result",
     "data": {
      "text/plain": [
       "38.701786464381904"
      ]
     },
     "metadata": {},
     "execution_count": 16
    }
   ]
  }
 ]
}